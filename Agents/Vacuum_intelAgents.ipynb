{
 "cells": [
  {
   "cell_type": "markdown",
   "metadata": {},
   "source": [
    "# Intelligent Agents: Vacuum-cleaner World\n",
    "\n",
    "Implement a simulator environment for a vacuum-cleaner world and a set of intelligent agents.\n",
    "\n",
    "## PEAS description\n",
    "\n",
    "__Performance Measure:__ Each action costs 1. The performance is measured as the sum of the cost to clean the whole environment.\n",
    "\n",
    "__Environment:__ A room with $n \\times n$ squares where $n = 5$. Dirt is randomly placed on each square with probability $p = 0.2$. For simplicity, you can assume that the agent knows the size of the layout of the room (i.e., it knows n and where it starts).\n",
    "\n",
    "__Actuators:__ The agent can `clean` the current square or move to an adjacent square by going `north`, `east`, `west`, or `south`.\n",
    "\n",
    "__Sensors:__ Four bumper sensors, one for north`, `east`, `west`, and `south`; a dirt sensor reporting dirt in the current square.  \n",
    "\n",
    "The easiest implementation for the environment is to hold an 2-dimensional array to represent if squares are clean or dirty and to call the agent function in a loop untill all squares are clean or a predefined number of steps have been reached.\n",
    "\n",
    "## Define the agent program for a simple randomized agent\n",
    "\n",
    "The agent program is a function that gets sensor information (the current percepts) as the arguments. The arguments are:\n",
    "\n",
    "* A dictonary with boolean entries for the for bumper sensors `north`, `east`, `west`, `south`; not specified bumpers are assumed to be `False`. E.g., if the agent is on the north-west corner, `bumpers` gets `{\"north\" : True, \"west\" : True}` or if the agent is not close to a border then it gets `{}`.\n",
    "* The dirt sensor produces a boolean.\n",
    "\n",
    "The agent returns the chosen action as a string.\n",
    "\n",
    "Here is an example implementation for the agent program of a simple randomized agent:  "
   ]
  },
  {
   "cell_type": "code",
   "execution_count": 1,
   "metadata": {},
   "outputs": [],
   "source": [
    "%matplotlib inline\n",
    "import numpy as np\n",
    "import random\n",
    "import matplotlib.pyplot as plt\n",
    "import seaborn as sns \n",
    "\n",
    "sns.set(style=\"darkgrid\")\n",
    "\n",
    "\n",
    "STOP_AT = 100000"
   ]
  },
  {
   "cell_type": "code",
   "execution_count": 2,
   "metadata": {},
   "outputs": [],
   "source": [
    "actions = [\"north\", \"east\", \"west\", \"south\", \"suck\"]\n",
    "\n",
    "\n",
    "def simple_randomized_agent(bumpers, dirty):\n",
    "    return random.choice(actions)"
   ]
  },
  {
   "cell_type": "code",
   "execution_count": 3,
   "metadata": {},
   "outputs": [
    {
     "data": {
      "text/plain": [
       "'north'"
      ]
     },
     "execution_count": 3,
     "metadata": {},
     "output_type": "execute_result"
    }
   ],
   "source": [
    "simple_randomized_agent({\"north\" : True}, True)"
   ]
  },
  {
   "cell_type": "markdown",
   "metadata": {},
   "source": [
    "## Simple environment example\n",
    "\n",
    "The environment is infinite in size (bumpers are always `False`) and every square is dirty. We run the agent for 10 times steps."
   ]
  },
  {
   "cell_type": "code",
   "execution_count": 4,
   "metadata": {},
   "outputs": [
    {
     "name": "stdout",
     "output_type": "stream",
     "text": [
      "suck\n",
      "north\n",
      "suck\n",
      "south\n",
      "east\n",
      "west\n",
      "suck\n",
      "west\n",
      "east\n",
      "west\n"
     ]
    }
   ],
   "source": [
    "for i in range(10):\n",
    "    print(simple_randomized_agent({\"north\" : False, \"south\" : False, \"west\" : False, \"east\" : False}, True))"
   ]
  },
  {
   "cell_type": "markdown",
   "metadata": {},
   "source": [
    "# Tasks\n",
    "\n",
    "_Submission Instructions:_ Use this notebook to prepare your submission. Complete this section with your code and results. You can use Markdown blocks for your description, comments in the code and use mathplotlib to produce charts. If you use external code files then you can include them with \n",
    "\n",
    "```\n",
    "from notebook import psource\n",
    "psource(\"your_file.py\")\n",
    "```\n",
    "\n",
    "_Note:_ Try to keep the code simple! In this couse, we want to learn about the algorithms and we often do not need to use object-oriented design. \n",
    "\n",
    "\n",
    "## Task 1: Implement a simulation environment\n",
    "\n",
    "Your environment simulator needs to create squares, make some dirty, and proivde the agent function with the sensor inputs. The environment needs to evaluate the performance measure. It needs to track the agent's actions until all dirty squares are clean and count the number of actions it takes the agent to complete the task.\n",
    "\n",
    "The simulation environment needs to work with the simple randomized agent program from above."
   ]
  },
  {
   "cell_type": "code",
   "execution_count": 5,
   "metadata": {},
   "outputs": [],
   "source": [
    "def room(agent, grid_size = 5, dirt_p = 0.2, max_steps = STOP_AT, verbose = True):\n",
    "    \n",
    "    global pos\n",
    "    pos = [0,0]\n",
    "    \n",
    "    grid = np.random.choice([True, False], p=[dirt_p, 1-dirt_p], size=(grid_size, grid_size))\n",
    "    if verbose: print ('Floor Grid: \\n', grid)\n",
    "    \n",
    "    toClean = np.sum(grid)\n",
    "    if verbose: print ('Dirty squares: ', toClean)\n",
    "    \n",
    "    if verbose: print('Simulation')\n",
    "    \n",
    "    for i in range(max_steps):\n",
    "    \n",
    "        if toClean < 1: break\n",
    "            \n",
    "        bumpers = {\n",
    "            \"north\": pos[0] == 0,\n",
    "            \"south\": pos[0] == grid_size - 1,\n",
    "            \"west\" : pos[1] == 0,\n",
    "            \"east\" : pos[1] == grid_size - 1\n",
    "        }\n",
    "\n",
    "        dirty = grid[pos[0], pos[1]]\n",
    "\n",
    "        if verbose:\n",
    "            print('------------')\n",
    "            print('step:', i)\n",
    "            print('position:', pos)\n",
    "            print('bumpers:', bumpers)\n",
    "            print('dirty:', dirty)\n",
    "\n",
    "        action = agent(bumpers, dirty)\n",
    "        if verbose: print('action:', action)\n",
    "\n",
    "        if (action == \"north\" and pos[0] > 0):               pos[0] = pos[0] - 1\n",
    "        elif (action == \"south\" and pos[0] < (grid_size-1)): pos[0] = pos[0] + 1\n",
    "        elif (action == \"east\" and pos[1] < (grid_size-1)):  pos[1] = pos[1] + 1\n",
    "        elif (action == \"west\" and pos[1] > 0):              pos[1] = pos[1] - 1\n",
    "        elif (action == \"suck\" and dirty):                   grid[pos[0],pos[1]] = False\n",
    "\n",
    "        toClean = np.sum(grid)\n",
    "        if verbose: print ('Dirty squares: ', toClean)\n",
    "    return (i+1)  "
   ]
  },
  {
   "cell_type": "markdown",
   "metadata": {},
   "source": [
    "## Task 2:  Implement a simple reflex agent\n",
    "\n",
    "The simple reflex agent randomly walks around but reacts to the bumper sensor by not bumping into the wall and to dirt with sucking."
   ]
  },
  {
   "cell_type": "code",
   "execution_count": 6,
   "metadata": {},
   "outputs": [],
   "source": [
    "def simple_reflex_agent(bumpers, dirty):\n",
    "    if (dirty): return 'suck'\n",
    "    \n",
    "    aval_actions = [i for i in bumpers if bumpers[i] is False]\n",
    "    return random.choice(aval_actions)"
   ]
  },
  {
   "cell_type": "markdown",
   "metadata": {},
   "source": [
    "## Task 3: Implement a model-based reflex agent \n",
    "\n",
    "This agent keeps track of the location and remembers where it has cleaned. Assume the agent knows how many squares the room has and where it starts. It can now use more advanced navigation.\n",
    "\n",
    "_Note on implementing the state:_ You can use a global variable. In Python, you have to use the keyword `global` in your function for this to work (see: https://www.programiz.com/python-programming/global-keyword). Alternatively, you can define a class for your agent with a member variable for the state and a function for the agent program (see: https://www.w3schools.com/python/python_classes.asp). \n",
    "\n",
    "Describe how your agent will perform \n",
    "* if it is put into a larger room, \n",
    "* if the room contains obstacles, or \n",
    "* if it starts in a random square."
   ]
  },
  {
   "cell_type": "code",
   "execution_count": 7,
   "metadata": {},
   "outputs": [],
   "source": [
    "def model_based_reflex_agent(bumpers, dirty):\n",
    "    if (dirty): return 'suck'\n",
    "    \n",
    "    if pos[0] % 2 == 0:\n",
    "        if bumpers['east'] == False:\n",
    "            return 'east'\n",
    "        return 'south'\n",
    "    else:\n",
    "        if bumpers['west'] == False:\n",
    "            return 'west'\n",
    "        return 'south'"
   ]
  },
  {
   "cell_type": "markdown",
   "metadata": {},
   "source": [
    "This agent will visits each square only once, starting from the north-west square going to the east most cell, then south, then going to the west most cell and so on. The squares that contain dirt will excute 'suck' before the agent moves on the next square.\n",
    "* If put in a large room, this agent will perform extremely better that then previous two agents as proven by the charts below.\n",
    "* If the room contains obstacles, the agent will not succeed as it will treat obstacles as a wall and will drop to the row bellow, missing the rest of the squares in the obstacle row.\n",
    "* If it starts in a random square, the agent will perform good from the start square to the bottom of the room, but will ignore all the squares before the starting square."
   ]
  },
  {
   "cell_type": "markdown",
   "metadata": {},
   "source": [
    "## Task 4: Simulation study\n",
    "\n",
    "Compare the performance of the agents using different size environments. E.g., $5 \\times 5$, $10 \\times 10$ and\n",
    "$100 \\times 100$. Use at least 100 random runs for each."
   ]
  },
  {
   "cell_type": "code",
   "execution_count": 8,
   "metadata": {},
   "outputs": [],
   "source": [
    "def chart_data(agent, room_size, runs = 100):\n",
    "    \n",
    "    steps = np.repeat(0,runs)\n",
    "    for i in range(runs):\n",
    "        steps[i] = room(agent, room_size, verbose = False)\n",
    "    \n",
    "    print ('Mean', np.mean(steps))\n",
    "    \n",
    "    plt.hist(steps, bins= 10, linewidth=0.1)\n",
    "    plt.xlabel('steps')\n",
    "    plt.ylabel('frequency')\n",
    "    plt.show()"
   ]
  },
  {
   "cell_type": "code",
   "execution_count": 9,
   "metadata": {
    "scrolled": false
   },
   "outputs": [
    {
     "name": "stdout",
     "output_type": "stream",
     "text": [
      "-----------\n",
      "room size: 5 X 5\n",
      "-----------\n",
      "Simple randomized agent\n",
      "Mean 461.96\n"
     ]
    },
    {
     "data": {
      "image/png": "[encoded data removed]",
      "text/plain": [
       "<Figure size 432x288 with 1 Axes>"
      ]
     },
     "metadata": {},
     "output_type": "display_data"
    },
    {
     "name": "stdout",
     "output_type": "stream",
     "text": [
      "Simple reflect agent\n",
      "Mean 97.68\n"
     ]
    },
    {
     "data": {
      "image/png": "[encoded data removed]",
      "text/plain": [
       "<Figure size 432x288 with 1 Axes>"
      ]
     },
     "metadata": {},
     "output_type": "display_data"
    },
    {
     "name": "stdout",
     "output_type": "stream",
     "text": [
      "Model based agent\n",
      "Mean 25.67\n"
     ]
    },
    {
     "data": {
      "image/png": "[encoded data removed]",
      "text/plain": [
       "<Figure size 432x288 with 1 Axes>"
      ]
     },
     "metadata": {},
     "output_type": "display_data"
    },
    {
     "name": "stdout",
     "output_type": "stream",
     "text": [
      "-----------\n",
      "room size: 10 X 10\n",
      "-----------\n",
      "Simple randomized agent\n",
      "Mean 3106.78\n"
     ]
    },
    {
     "data": {
      "image/png": "[encoded data removed]",
      "text/plain": [
       "<Figure size 432x288 with 1 Axes>"
      ]
     },
     "metadata": {},
     "output_type": "display_data"
    },
    {
     "name": "stdout",
     "output_type": "stream",
     "text": [
      "Simple reflect agent\n",
      "Mean 867.79\n"
     ]
    },
    {
     "data": {
      "image/png": "[encoded data removed]",
      "text/plain": [
       "<Figure size 432x288 with 1 Axes>"
      ]
     },
     "metadata": {},
     "output_type": "display_data"
    },
    {
     "name": "stdout",
     "output_type": "stream",
     "text": [
      "Model based agent\n",
      "Mean 117.67\n"
     ]
    },
    {
     "data": {
      "image/png": "[encoded data removed]",
      "text/plain": [
       "<Figure size 432x288 with 1 Axes>"
      ]
     },
     "metadata": {},
     "output_type": "display_data"
    },
    {
     "name": "stdout",
     "output_type": "stream",
     "text": [
      "-----------\n",
      "room size: 100 X 100\n",
      "-----------\n",
      "Simple randomized agent\n",
      "Mean 100000.0\n"
     ]
    },
    {
     "data": {
      "image/png": "[encoded data removed]",
      "text/plain": [
       "<Figure size 432x288 with 1 Axes>"
      ]
     },
     "metadata": {},
     "output_type": "display_data"
    },
    {
     "name": "stdout",
     "output_type": "stream",
     "text": [
      "Simple reflect agent\n",
      "Mean 100000.0\n"
     ]
    },
    {
     "data": {
      "image/png": "[encoded data removed]",
      "text/plain": [
       "<Figure size 432x288 with 1 Axes>"
      ]
     },
     "metadata": {},
     "output_type": "display_data"
    },
    {
     "name": "stdout",
     "output_type": "stream",
     "text": [
      "Model based agent\n",
      "Mean 11989.62\n"
     ]
    },
    {
     "data": {
      "image/png": "[encoded data removed]",
      "text/plain": [
       "<Figure size 432x288 with 1 Axes>"
      ]
     },
     "metadata": {},
     "output_type": "display_data"
    }
   ],
   "source": [
    "room_size = [5,10,100]\n",
    "\n",
    "for size in room_size:\n",
    "    print('-----------')\n",
    "    print (\"room size:\", size , \"X\" , size)\n",
    "    print('-----------')\n",
    "    \n",
    "    print('Simple randomized agent')\n",
    "    chart_data(simple_randomized_agent, room_size = size)\n",
    "    print('Simple reflect agent')\n",
    "    chart_data(simple_reflex_agent, room_size = size)\n",
    "    print('Model based agent')\n",
    "    chart_data(model_based_reflex_agent, room_size = size)"
   ]
  },
  {
   "cell_type": "markdown",
   "metadata": {},
   "source": [
    "The above charts show that the Model based agent has an overall better performace that the other two agents. The gap between the performances increase exponentially with the increase in the room size. In the 100x100 room size test, the Simple randomized agent and Simple reflect agent reached the maximum number of steps (100,000) while the Model based agent cleaned the room in almost (12,000) steps."
   ]
  },
  {
   "cell_type": "markdown",
   "metadata": {},
   "source": [
    "## Bonus tasks\n",
    "\n",
    "* __Obstacles:__ Add random obstacle squares that also trigger the bumper sensor. The agent does not know where the obstacles are. Observe how this changes the performance of the three implementations.\n",
    "* __Unknown environment with obstacles:__ Implement an agent for an environment where the agent does not know how large the environment is (we assume it is rectangular), where it starts or where the obstacles are. An option would be to always move to the closest unchecked/uncleaned square.\n",
    "* __Utility-based agent:__ Change the environment, so each square has a fixed probability of getting dirty again. We assume the agent has learned this information over time. For the implementation, we give this information to the agent as a 2-dimensional array of probabilities  Cleaning one dirty square produces a utility of 1. Implement a utility-based agent that maximizes the expected utility over one full charge which lasts for 10000 time steps. This is very tricky!"
   ]
  }
 ],
 "metadata": {
  "kernelspec": {
   "display_name": "Python 3",
   "language": "python",
   "name": "python3"
  },
  "language_info": {
   "codemirror_mode": {
    "name": "ipython",
    "version": 3
   },
   "file_extension": ".py",
   "mimetype": "text/x-python",
   "name": "python",
   "nbconvert_exporter": "python",
   "pygments_lexer": "ipython3",
   "version": "3.8.5"
  }
 },
 "nbformat": 4,
 "nbformat_minor": 4
}
