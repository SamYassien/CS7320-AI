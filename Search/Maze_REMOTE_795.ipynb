{
 "cells": [
  {
   "cell_type": "markdown",
   "metadata": {},
   "source": [
    "# Search: Solving a maze\n",
    "\n",
    "Total Points: 10\n",
    "\n",
    "\n",
    "The agent has a map of the maze it is in (i.e., the environment is deterministic, discrete, and known). The agent must use the map to plan a path through the maze from the starting location $S$ to the goal location $G$.  \n",
    "\n",
    "Here is the small example maze:"
   ]
  },
  {
   "cell_type": "code",
   "execution_count": 1,
   "metadata": {
    "scrolled": false
   },
   "outputs": [],
   "source": [
    "from pyTree.Tree import Tree as Tree\n",
    "from tabulate import tabulate\n",
    "import pandas as pd\n",
    "\n",
    "%run maze_helper.py\n",
    "\n",
    "maze_files = [\"small_maze.txt\", \n",
    "              \"medium_maze.txt\", \n",
    "              \"large_maze.txt\", \n",
    "              \"empty_maze.txt\", \n",
    "              \"wall_maze.txt\", \n",
    "              \"open_maze.txt\",\n",
    "              \"loops_maze.txt\"]\n",
    "    \n",
    "\n",
    "def ReadMaze (maze_file):\n",
    "    \n",
    "    f = open(maze_file, \"r\")\n",
    "    maze_str = f.read()\n",
    "    \n",
    "    return maze_str\n",
    "\n",
    "maze = list()\n",
    "\n",
    "for file in maze_files:\n",
    "    maze.append(parse_maze(ReadMaze(file)))"
   ]
  },
  {
   "cell_type": "markdown",
   "metadata": {},
   "source": [
    "__Notes:__ \n",
    "* This is a planing exercise, so you do not need to implement an environment, just use the map to search for a path. Once the plan is made, the agent can just follow the path and does not need percepts. The execution phase is trivial and we do not implement it in this exercise.\n",
    "* Tree search algorithm implementations that you find online have often a different aim. The algorithms assume that you already have a tree and the goal is to traverse all nodes. We are interested in dynamically creating a search tree with the aim of finding a good/the best path to the goal state. Ideally, we would like to search only a small part of the maze, i.e., create a search tree with as few nodes as possible. \n",
    "* Some mazes may contain cycles and therefore not form proper trees unless cycles are prevented. \n",
    "\n",
    "## Parsing and pretty printing the maze\n",
    "\n",
    "The maze can also be displayed in color using code in the file [maze_helper.py](maze_helper.py). The code parses the string representing the maze and converts it into a `numpy` 2d array which you can use in your implementation."
   ]
  },
  {
   "cell_type": "code",
   "execution_count": 2,
   "metadata": {
    "scrolled": true
   },
   "outputs": [],
   "source": [
    "#from pyTree.Tree import Tree as Tree\n",
    "#from tabulate import tabulate\n",
    "\n",
    "#%run maze_helper.py\n",
    "\n",
    "#maze = parse_maze(ReadMaze(maze_files[0]))\n",
    "\n",
    "# look at two positions in the maze\n",
    "#print(\"Position(0,0):\", maze[0, 0])\n",
    "\n",
    "# there is also a helper function called `look(maze, pos)`\n",
    "#print(\"Position(8,1):\", look(maze, [8, 1]))"
   ]
  },
  {
   "cell_type": "markdown",
   "metadata": {},
   "source": [
    "Visualize the maze"
   ]
  },
  {
   "cell_type": "code",
   "execution_count": 3,
   "metadata": {},
   "outputs": [
    {
     "data": {
      "image/png": "[encoded data removed]",
      "text/plain": [
       "<Figure size 432x288 with 1 Axes>"
      ]
     },
     "metadata": {
      "needs_background": "light"
     },
     "output_type": "display_data"
    }
   ],
   "source": [
    "show_maze(maze[0])"
   ]
  },
  {
   "cell_type": "markdown",
   "metadata": {},
   "source": [
    "Find the position of the start and the goal using the helper function `find_pos()`"
   ]
  },
  {
   "cell_type": "code",
   "execution_count": 4,
   "metadata": {},
   "outputs": [
    {
     "name": "stdout",
     "output_type": "stream",
     "text": [
      "Start location: [3, 11]\n",
      "Goal location: [8, 1]\n"
     ]
    }
   ],
   "source": [
    "print(\"Start location:\", find_pos(maze[0], what = \"S\"))\n",
    "print(\"Goal location:\", find_pos(maze[0], what = \"G\"))"
   ]
  },
  {
   "cell_type": "markdown",
   "metadata": {},
   "source": [
    "## Tree structures\n",
    "\n",
    "A basic tree implementation in Python is available at https://github.com/yoyzhou/pyTree (found by John Park).\n"
   ]
  },
  {
   "cell_type": "markdown",
   "metadata": {},
   "source": [
    "# Tasks\n",
    "\n",
    "Implement the following search algorithms for solving different mazes:\n",
    "\n",
    "* Breadth-first search (BFS)\n",
    "* Depth-first search (DFS)\n",
    "* Iterative deepening search (IDS)\n",
    "* Greedy best-first search (GBFS)\n",
    "* A* search\n",
    "\n",
    "Run each of the above algorithms on the \n",
    "[small maze](small_maze.txt), \n",
    "[medium maze](medium_maze.txt), \n",
    "[large maze](large_maze.txt), \n",
    "[open maze](open_maze.txt),\n",
    "[empty maze](empty_maze.txt), \n",
    "[wall maze](wall_maze.txt), \n",
    "and the \n",
    "[loops maze](loops_maze.txt). \n",
    "For each problem instance and each search algorithm, report the following in a table:\n",
    "\n",
    "* The solution and its path cost\n",
    "* Number of nodes expanded\n",
    "* Maximum tree depth searched\n",
    "* Maximum size of the frontier.\n",
    "\n",
    "Display each solution by marking every maze square (or state) visited and the squares on the final path."
   ]
  },
  {
   "cell_type": "markdown",
   "metadata": {},
   "source": [
    "## Task 1: Defining the search Problem [1 point]\n",
    "\n",
    "Define the components of the search problem:\n",
    "\n",
    "* Initial state\n",
    "* Actions\n",
    "* Transition model\n",
    "* Goal state\n",
    "* Path cost"
   ]
  },
  {
   "cell_type": "markdown",
   "metadata": {},
   "source": [
    "# Solution:\n",
    "* Initial state: cell \"S\"\n",
    "* Action: Move from one cell to a neighboring cell.\n",
    "* Transition: If the program moves from cell X to cell Y, it will end up in cell Y.\n",
    "* Goal state: cell \"G\"\n",
    "* Path cost: the sum of steps from cell to another, each step has a cost of 1."
   ]
  },
  {
   "cell_type": "markdown",
   "metadata": {},
   "source": [
    "# Helper Functions:"
   ]
  },
  {
   "cell_type": "code",
   "execution_count": 5,
   "metadata": {},
   "outputs": [
    {
     "data": {
      "text/plain": [
       "[[3, 12], [2, 11], [3, 10]]"
      ]
     },
     "execution_count": 5,
     "metadata": {},
     "output_type": "execute_result"
    }
   ],
   "source": [
    "def available_directions(maze, pos):\n",
    "    \n",
    "    pos_options = np.add(pos, [[-1,0], [0,1], [1,0], [0,-1]])\n",
    "    np.random.shuffle(pos_options)\n",
    "    return ([avail_pos.tolist() for avail_pos in pos_options if look(maze, avail_pos) != \"X\"])\n",
    "\n",
    "available_directions(maze[0], find_pos(maze[0], \"S\"))"
   ]
  },
  {
   "cell_type": "code",
   "execution_count": 6,
   "metadata": {},
   "outputs": [],
   "source": [
    "def get_path(node):\n",
    "    \n",
    "    path = list()\n",
    "    path.append(node.data)\n",
    "    \n",
    "    while not node.isRoot():\n",
    "        node = node.getParent()\n",
    "        path.append(node.data)\n",
    "    path.reverse()\n",
    "    return(path)"
   ]
  },
  {
   "cell_type": "code",
   "execution_count": 7,
   "metadata": {},
   "outputs": [],
   "source": [
    "def show_path(maze, path, reached = []):\n",
    "    \n",
    "    maze_viz = np.copy(maze)\n",
    "    \n",
    "    for pos in path:\n",
    "        if maze_viz[pos[0],pos[1]] == \" \":\n",
    "            maze_viz[pos[0],pos[1]] = \"P\"\n",
    "    for pos in reached:\n",
    "        if maze_viz[pos[0],pos[1]] == \" \":\n",
    "            maze_viz[pos[0],pos[1]] = \".\"\n",
    "    \n",
    "    show_maze(maze_viz)"
   ]
  },
  {
   "cell_type": "code",
   "execution_count": 8,
   "metadata": {},
   "outputs": [],
   "source": [
    "def min_index(x):\n",
    "    \n",
    "    return(np.random.choice(np.where(x == np.amin(x))[0]))"
   ]
  },
  {
   "cell_type": "markdown",
   "metadata": {},
   "source": [
    "# Heuristics:"
   ]
  },
  {
   "cell_type": "code",
   "execution_count": 9,
   "metadata": {},
   "outputs": [],
   "source": [
    "def manhattan(pos1, pos2):\n",
    "    return(np.sum(np.abs(np.subtract(pos1, pos2))))"
   ]
  },
  {
   "cell_type": "code",
   "execution_count": 10,
   "metadata": {},
   "outputs": [],
   "source": [
    "def g(node):\n",
    "    return(len(get_path(node))-1)"
   ]
  },
  {
   "cell_type": "markdown",
   "metadata": {},
   "source": [
    "## Task 2: Breadth-first, Depth-first and iterative deepening search [4 points]\n",
    "\n",
    "Implement these search strategies. You can implement a generic tree search following the BFS pseudo-code in your textbook and then just adapt the order in which the frontier is explored."
   ]
  },
  {
   "cell_type": "code",
   "execution_count": 11,
   "metadata": {
    "scrolled": true
   },
   "outputs": [],
   "source": [
    "def MazeSolver(maze, search = \"BFS\", limit = 0, debug = False, visual = False):\n",
    "    \n",
    "    start = find_pos(maze, \"S\")\n",
    "    goal = find_pos(maze, \"G\")\n",
    "    \n",
    "    if visual: maze_visual = np.copy(maze)\n",
    "        \n",
    "    root = Tree(data = start)\n",
    "    \n",
    "    frontier = [root]\n",
    "    reached = dict()\n",
    "    reached[tuple(root.data)] = root\n",
    "    \n",
    "    node = root\n",
    "    \n",
    "    maxFrontier = 0\n",
    "    maxDepth = 0\n",
    "    \n",
    "    while not len(frontier) < 1:\n",
    "        \n",
    "        if debug: print(\"Frontier:\", [n.data for n in frontier])\n",
    "        \n",
    "        if search == \"BFS\":\n",
    "            node = frontier.pop(0)\n",
    "        elif search == \"DFS\" or \"IDS\":\n",
    "            node = frontier.pop(-1)\n",
    "        elif search == \"GBFS\":\n",
    "            h = [manhattan(n.data, goal) for n in frontier]\n",
    "            node = frontier.pop(min_index(h))\n",
    "        elif search == \"A*\":\n",
    "            h = [g(n) + manhattan(n.data, goal) for n in frontier]\n",
    "            node = frontier.pop(min_index(h))\n",
    "        \n",
    "        if look(maze, node.data) == \"G\":\n",
    "            return({\"path\": get_path(node), \"reached\": reached.keys(), \"max_frontier\": maxFrontier, \"max_depth\": maxDepth})\n",
    "        \n",
    "        if search == \"IDS\":\n",
    "            if g(node) > limit:\n",
    "                continue\n",
    "        \n",
    "        if debug: print(\"Expanding: \", node.data)\n",
    "        \n",
    "        for pos in available_directions(maze, node.data):\n",
    "            \n",
    "            if not tuple(pos) in reached.keys():\n",
    "                new_node = Tree(data = pos)\n",
    "                node.addChild(new_node)\n",
    "                frontier.append(new_node)\n",
    "                reached[tuple(pos)] = new_node\n",
    "                \n",
    "                if visual: maze_visual[pos[0],pos[1]] = \".\"\n",
    "        \n",
    "        if maxFrontier < len(frontier): maxFrontier = len(frontier)\n",
    "        if maxDepth < g(node) : maxDepth = g(node)\n",
    "            \n",
    "        if debug: print(\"Adding to frontier:\", [n.data for n in node.getChildren()])\n",
    "            \n",
    "        if visual:\n",
    "            show_maze(maze_visual)\n",
    "                \n",
    "    return(None) #Failed"
   ]
  },
  {
   "cell_type": "markdown",
   "metadata": {},
   "source": [
    "# BFS"
   ]
  },
  {
   "cell_type": "code",
   "execution_count": 12,
   "metadata": {
    "scrolled": false
   },
   "outputs": [
    {
     "name": "stdout",
     "output_type": "stream",
     "text": [
      "Maze: small_maze.txt\n",
      "Path cost: 19\n",
      "Explored squares: 93\n"
     ]
    },
    {
     "data": {
      "image/png": "[encoded data removed]",
      "text/plain": [
       "<Figure size 432x288 with 1 Axes>"
      ]
     },
     "metadata": {
      "needs_background": "light"
     },
     "output_type": "display_data"
    },
    {
     "name": "stdout",
     "output_type": "stream",
     "text": [
      "Maze: medium_maze.txt\n",
      "Path cost: 68\n",
      "Explored squares: 271\n"
     ]
    },
    {
     "data": {
      "image/png": "[encoded data removed]",
      "text/plain": [
       "<Figure size 432x288 with 1 Axes>"
      ]
     },
     "metadata": {
      "needs_background": "light"
     },
     "output_type": "display_data"
    },
    {
     "name": "stdout",
     "output_type": "stream",
     "text": [
      "Maze: large_maze.txt\n",
      "Path cost: 210\n",
      "Explored squares: 624\n"
     ]
    },
    {
     "data": {
      "image/png": "[encoded data removed]",
      "text/plain": [
       "<Figure size 432x288 with 1 Axes>"
      ]
     },
     "metadata": {
      "needs_background": "light"
     },
     "output_type": "display_data"
    },
    {
     "name": "stdout",
     "output_type": "stream",
     "text": [
      "Maze: empty_maze.txt\n",
      "Path cost: 14\n",
      "Explored squares: 98\n"
     ]
    },
    {
     "data": {
      "image/png": "[encoded data removed]",
      "text/plain": [
       "<Figure size 432x288 with 1 Axes>"
      ]
     },
     "metadata": {
      "needs_background": "light"
     },
     "output_type": "display_data"
    },
    {
     "name": "stdout",
     "output_type": "stream",
     "text": [
      "Maze: wall_maze.txt\n",
      "Path cost: 14\n",
      "Explored squares: 91\n"
     ]
    },
    {
     "data": {
      "image/png": "[encoded data removed]",
      "text/plain": [
       "<Figure size 432x288 with 1 Axes>"
      ]
     },
     "metadata": {
      "needs_background": "light"
     },
     "output_type": "display_data"
    },
    {
     "name": "stdout",
     "output_type": "stream",
     "text": [
      "Maze: open_maze.txt\n",
      "Path cost: 54\n",
      "Explored squares: 684\n"
     ]
    },
    {
     "data": {
      "image/png": "[encoded data removed]",
      "text/plain": [
       "<Figure size 432x288 with 1 Axes>"
      ]
     },
     "metadata": {
      "needs_background": "light"
     },
     "output_type": "display_data"
    },
    {
     "name": "stdout",
     "output_type": "stream",
     "text": [
      "Maze: loops_maze.txt\n",
      "Path cost: 23\n",
      "Explored squares: 72\n"
     ]
    },
    {
     "data": {
      "image/png": "[encoded data removed]",
      "text/plain": [
       "<Figure size 432x288 with 1 Axes>"
      ]
     },
     "metadata": {
      "needs_background": "light"
     },
     "output_type": "display_data"
    }
   ],
   "source": [
    "table_content = dict()\n",
    "\n",
    "mazeNum = 0\n",
    "for m in maze:\n",
    "    solution = MazeSolver(m, \"BFS\")\n",
    "    \n",
    "    print(\"Maze:\", maze_files[mazeNum])\n",
    "    print(\"Path cost:\", len(solution[\"path\"])-1)\n",
    "    print(\"Explored squares:\", len(solution[\"reached\"]))\n",
    "    \n",
    "    table_content[maze_files[mazeNum]] = [[\"BFS\", len(solution[\"path\"])-1, len(solution[\"reached\"]), solution[\"max_frontier\"], solution[\"max_depth\"]]]\n",
    "    mazeNum = mazeNum+1\n",
    "    \n",
    "    show_path(m, solution[\"path\"], solution[\"reached\"])\n",
    "    "
   ]
  },
  {
   "cell_type": "markdown",
   "metadata": {},
   "source": [
    "## Answer\n",
    "* Complete: YES. It will find the node at a certain depth after expanding the nodes shallower than the goal node.\n",
    "* Optimal: YES. It stops at the shallowest goal found.\n",
    "* Time: O(b^d), where 'b' is the number of childs a node is allowed to have and 'd' is the depth of the tree.\n",
    "* Space: O(b^d)"
   ]
  },
  {
   "cell_type": "markdown",
   "metadata": {},
   "source": [
    "# DFS"
   ]
  },
  {
   "cell_type": "code",
   "execution_count": 13,
   "metadata": {
    "scrolled": false
   },
   "outputs": [
    {
     "name": "stdout",
     "output_type": "stream",
     "text": [
      "Maze: small_maze.txt\n",
      "Path cost: 29\n",
      "Explored squares: 48\n"
     ]
    },
    {
     "data": {
      "image/png": "[encoded data removed]",
      "text/plain": [
       "<Figure size 432x288 with 1 Axes>"
      ]
     },
     "metadata": {
      "needs_background": "light"
     },
     "output_type": "display_data"
    },
    {
     "name": "stdout",
     "output_type": "stream",
     "text": [
      "Maze: medium_maze.txt\n",
      "Path cost: 74\n",
      "Explored squares: 82\n"
     ]
    },
    {
     "data": {
      "image/png": "[encoded data removed]",
      "text/plain": [
       "<Figure size 432x288 with 1 Axes>"
      ]
     },
     "metadata": {
      "needs_background": "light"
     },
     "output_type": "display_data"
    },
    {
     "name": "stdout",
     "output_type": "stream",
     "text": [
      "Maze: large_maze.txt\n",
      "Path cost: 210\n",
      "Explored squares: 515\n"
     ]
    },
    {
     "data": {
      "image/png": "[encoded data removed]",
      "text/plain": [
       "<Figure size 432x288 with 1 Axes>"
      ]
     },
     "metadata": {
      "needs_background": "light"
     },
     "output_type": "display_data"
    },
    {
     "name": "stdout",
     "output_type": "stream",
     "text": [
      "Maze: empty_maze.txt\n",
      "Path cost: 16\n",
      "Explored squares: 100\n"
     ]
    },
    {
     "data": {
      "image/png": "[encoded data removed]",
      "text/plain": [
       "<Figure size 432x288 with 1 Axes>"
      ]
     },
     "metadata": {
      "needs_background": "light"
     },
     "output_type": "display_data"
    },
    {
     "name": "stdout",
     "output_type": "stream",
     "text": [
      "Maze: wall_maze.txt\n",
      "Path cost: 22\n",
      "Explored squares: 46\n"
     ]
    },
    {
     "data": {
      "image/png": "[encoded data removed]",
      "text/plain": [
       "<Figure size 432x288 with 1 Axes>"
      ]
     },
     "metadata": {
      "needs_background": "light"
     },
     "output_type": "display_data"
    },
    {
     "name": "stdout",
     "output_type": "stream",
     "text": [
      "Maze: open_maze.txt\n",
      "Path cost: 114\n",
      "Explored squares: 390\n"
     ]
    },
    {
     "data": {
      "image/png": "[encoded data removed]",
      "text/plain": [
       "<Figure size 432x288 with 1 Axes>"
      ]
     },
     "metadata": {
      "needs_background": "light"
     },
     "output_type": "display_data"
    },
    {
     "name": "stdout",
     "output_type": "stream",
     "text": [
      "Maze: loops_maze.txt\n",
      "Path cost: 25\n",
      "Explored squares: 62\n"
     ]
    },
    {
     "data": {
      "image/png": "[encoded data removed]",
      "text/plain": [
       "<Figure size 432x288 with 1 Axes>"
      ]
     },
     "metadata": {
      "needs_background": "light"
     },
     "output_type": "display_data"
    }
   ],
   "source": [
    "mazeNum = 0\n",
    "for m in maze:\n",
    "    solution = MazeSolver(m, \"DFS\")\n",
    "    \n",
    "    print(\"Maze:\", maze_files[mazeNum])\n",
    "    print(\"Path cost:\", len(solution[\"path\"])-1)\n",
    "    print(\"Explored squares:\", len(solution[\"reached\"]))\n",
    "    \n",
    "    table_content[maze_files[mazeNum]].append([\"DFS\", len(solution[\"path\"])-1, len(solution[\"reached\"]), solution[\"max_frontier\"], solution[\"max_depth\"]])\n",
    "    mazeNum = mazeNum+1\n",
    "\n",
    "    show_path(m, solution[\"path\"], solution[\"reached\"])"
   ]
  },
  {
   "cell_type": "markdown",
   "metadata": {},
   "source": [
    "Are your implementations complete and optimal? Explain why. What is the time and space complexity of each?"
   ]
  },
  {
   "cell_type": "markdown",
   "metadata": {},
   "source": [
    "## Answer\n",
    "* Complete: NO. it can be complete in finit spaces, but fails if loops exist\n",
    "* Optimal: NO. It is not guaranteed to produce the same path result.\n",
    "* Time: O(b^m), Where 'm' is the maximum length of the tree.\n",
    "* Space: O(bm)"
   ]
  },
  {
   "cell_type": "markdown",
   "metadata": {},
   "source": [
    "# IDS"
   ]
  },
  {
   "cell_type": "code",
   "execution_count": 14,
   "metadata": {
    "scrolled": false
   },
   "outputs": [
    {
     "name": "stdout",
     "output_type": "stream",
     "text": [
      "Maze: small_maze.txt\n",
      "Path cost: 19\n",
      "Explored squares: 73\n"
     ]
    },
    {
     "data": {
      "image/png": "[encoded data removed]",
      "text/plain": [
       "<Figure size 432x288 with 1 Axes>"
      ]
     },
     "metadata": {
      "needs_background": "light"
     },
     "output_type": "display_data"
    },
    {
     "name": "stdout",
     "output_type": "stream",
     "text": [
      "Maze: medium_maze.txt\n",
      "Path cost: 68\n",
      "Explored squares: 135\n"
     ]
    },
    {
     "data": {
      "image/png": "[encoded data removed]",
      "text/plain": [
       "<Figure size 432x288 with 1 Axes>"
      ]
     },
     "metadata": {
      "needs_background": "light"
     },
     "output_type": "display_data"
    },
    {
     "name": "stdout",
     "output_type": "stream",
     "text": [
      "Maze: large_maze.txt\n",
      "Path cost: 210\n",
      "Explored squares: 539\n"
     ]
    },
    {
     "data": {
      "image/png": "[encoded data removed]",
      "text/plain": [
       "<Figure size 432x288 with 1 Axes>"
      ]
     },
     "metadata": {
      "needs_background": "light"
     },
     "output_type": "display_data"
    },
    {
     "name": "stdout",
     "output_type": "stream",
     "text": [
      "Maze: empty_maze.txt\n",
      "Path cost: 14\n",
      "Explored squares: 61\n"
     ]
    },
    {
     "data": {
      "image/png": "[encoded data removed]",
      "text/plain": [
       "<Figure size 432x288 with 1 Axes>"
      ]
     },
     "metadata": {
      "needs_background": "light"
     },
     "output_type": "display_data"
    },
    {
     "name": "stdout",
     "output_type": "stream",
     "text": [
      "Maze: wall_maze.txt\n",
      "Path cost: 18\n",
      "Explored squares: 63\n"
     ]
    },
    {
     "data": {
      "image/png": "[encoded data removed]",
      "text/plain": [
       "<Figure size 432x288 with 1 Axes>"
      ]
     },
     "metadata": {
      "needs_background": "light"
     },
     "output_type": "display_data"
    },
    {
     "name": "stdout",
     "output_type": "stream",
     "text": [
      "Maze: open_maze.txt\n",
      "Path cost: 68\n",
      "Explored squares: 291\n"
     ]
    },
    {
     "data": {
      "image/png": "[encoded data removed]",
      "text/plain": [
       "<Figure size 432x288 with 1 Axes>"
      ]
     },
     "metadata": {
      "needs_background": "light"
     },
     "output_type": "display_data"
    },
    {
     "name": "stdout",
     "output_type": "stream",
     "text": [
      "Maze: loops_maze.txt\n",
      "Path cost: 25\n",
      "Explored squares: 72\n"
     ]
    },
    {
     "data": {
      "image/png": "[encoded data removed]",
      "text/plain": [
       "<Figure size 432x288 with 1 Axes>"
      ]
     },
     "metadata": {
      "needs_background": "light"
     },
     "output_type": "display_data"
    }
   ],
   "source": [
    "mazeNum = 0\n",
    "for m in maze:\n",
    "    for limit in range (1000):\n",
    "        solution = MazeSolver(m, search = \"IDS\", limit = limit)\n",
    "        if not solution == None:\n",
    "            break\n",
    "    \n",
    "    print(\"Maze:\", maze_files[mazeNum])\n",
    "    print(\"Path cost:\", len(solution[\"path\"])-1)\n",
    "    print(\"Explored squares:\", len(solution[\"reached\"]))\n",
    "    \n",
    "    table_content[maze_files[mazeNum]].append([\"IDS\", len(solution[\"path\"])-1, len(solution[\"reached\"]), solution[\"max_frontier\"], solution[\"max_depth\"]])\n",
    "    mazeNum = mazeNum+1\n",
    "\n",
    "    show_path(m, solution[\"path\"], solution[\"reached\"])"
   ]
  },
  {
   "cell_type": "markdown",
   "metadata": {},
   "source": [
    "# Answer\n",
    "\n",
    "IDS is the one algorithm that I am not confident of my implementation for it. The answers bellow are what is expected from IDS, but I add details about my observations. \n",
    "\n",
    "* Complete: YES. \n",
    "    * It found the goal cell in all mazes.\n",
    "* Optimal: YES. \n",
    "    * However, in my implementation it failed to return the shortest/same path in multiple mazes.\n",
    "* Time: O(b^d). \n",
    "    * Same as BFS in theory, but it was by far the longest to run! Is my implementation is failing some corner case? I used different limits, the smaller the number the faster it ran. I didn't see a correlation between increasing the limit and a better solution. I tried smaller limits that above, but they made the program fail.\n",
    "* Space: O(b^d)"
   ]
  },
  {
   "cell_type": "markdown",
   "metadata": {},
   "source": [
    "## Task 3: Greedy best-first search [2 points]\n",
    "\n",
    "You can use the map to estimate the distance from your current position to the goal using the Manhattan distance (see https://en.wikipedia.org/wiki/Taxicab_geometry) as a heuristic function."
   ]
  },
  {
   "cell_type": "code",
   "execution_count": 15,
   "metadata": {
    "scrolled": false
   },
   "outputs": [
    {
     "name": "stdout",
     "output_type": "stream",
     "text": [
      "Maze: small_maze.txt\n",
      "Path cost: 37\n",
      "Explored squares: 57\n"
     ]
    },
    {
     "data": {
      "image/png": "[encoded data removed]",
      "text/plain": [
       "<Figure size 432x288 with 1 Axes>"
      ]
     },
     "metadata": {
      "needs_background": "light"
     },
     "output_type": "display_data"
    },
    {
     "name": "stdout",
     "output_type": "stream",
     "text": [
      "Maze: medium_maze.txt\n",
      "Path cost: 130\n",
      "Explored squares: 261\n"
     ]
    },
    {
     "data": {
      "image/png": "[encoded data removed]",
      "text/plain": [
       "<Figure size 432x288 with 1 Axes>"
      ]
     },
     "metadata": {
      "needs_background": "light"
     },
     "output_type": "display_data"
    },
    {
     "name": "stdout",
     "output_type": "stream",
     "text": [
      "Maze: large_maze.txt\n",
      "Path cost: 210\n",
      "Explored squares: 410\n"
     ]
    },
    {
     "data": {
      "image/png": "[encoded data removed]",
      "text/plain": [
       "<Figure size 432x288 with 1 Axes>"
      ]
     },
     "metadata": {
      "needs_background": "light"
     },
     "output_type": "display_data"
    },
    {
     "name": "stdout",
     "output_type": "stream",
     "text": [
      "Maze: empty_maze.txt\n",
      "Path cost: 42\n",
      "Explored squares: 92\n"
     ]
    },
    {
     "data": {
      "image/png": "[encoded data removed]",
      "text/plain": [
       "<Figure size 432x288 with 1 Axes>"
      ]
     },
     "metadata": {
      "needs_background": "light"
     },
     "output_type": "display_data"
    },
    {
     "name": "stdout",
     "output_type": "stream",
     "text": [
      "Maze: wall_maze.txt\n",
      "Path cost: 26\n",
      "Explored squares: 49\n"
     ]
    },
    {
     "data": {
      "image/png": "[encoded data removed]",
      "text/plain": [
       "<Figure size 432x288 with 1 Axes>"
      ]
     },
     "metadata": {
      "needs_background": "light"
     },
     "output_type": "display_data"
    },
    {
     "name": "stdout",
     "output_type": "stream",
     "text": [
      "Maze: open_maze.txt\n",
      "Path cost: 108\n",
      "Explored squares: 451\n"
     ]
    },
    {
     "data": {
      "image/png": "[encoded data removed]",
      "text/plain": [
       "<Figure size 432x288 with 1 Axes>"
      ]
     },
     "metadata": {
      "needs_background": "light"
     },
     "output_type": "display_data"
    },
    {
     "name": "stdout",
     "output_type": "stream",
     "text": [
      "Maze: loops_maze.txt\n",
      "Path cost: 29\n",
      "Explored squares: 67\n"
     ]
    },
    {
     "data": {
      "image/png": "[encoded data removed]",
      "text/plain": [
       "<Figure size 432x288 with 1 Axes>"
      ]
     },
     "metadata": {
      "needs_background": "light"
     },
     "output_type": "display_data"
    }
   ],
   "source": [
    "mazeNum = 0\n",
    "for m in maze:\n",
    "    solution = MazeSolver(m, \"GBFS\")\n",
    "    \n",
    "    print(\"Maze:\", maze_files[mazeNum])\n",
    "    print(\"Path cost:\", len(solution[\"path\"])-1)\n",
    "    print(\"Explored squares:\", len(solution[\"reached\"]))\n",
    "    \n",
    "    table_content[maze_files[mazeNum]].append([\"GBFS\", len(solution[\"path\"])-1, len(solution[\"reached\"]), solution[\"max_frontier\"], solution[\"max_depth\"]])\n",
    "    mazeNum = mazeNum+1\n",
    "    \n",
    "    show_path(m, solution[\"path\"], solution[\"reached\"])"
   ]
  },
  {
   "cell_type": "markdown",
   "metadata": {},
   "source": [
    "Is this implementation complete and optimal? What is the time and space complexity?"
   ]
  },
  {
   "cell_type": "markdown",
   "metadata": {},
   "source": [
    "## Answer\n",
    "* Complete: No. It can get stuck in loops.\n",
    "* Optimal: NO. It is not guaranteed to produce the lowest cost path.\n",
    "* Time: O(b^m), Where 'm' is the maximum length of the tree.\n",
    "* Space: O(b^m)"
   ]
  },
  {
   "cell_type": "markdown",
   "metadata": {},
   "source": [
    "## Task 4: A* Search [3 points]\n",
    "\n",
    "Use again the Manhattan heuristic function."
   ]
  },
  {
   "cell_type": "code",
   "execution_count": 16,
   "metadata": {
    "scrolled": false
   },
   "outputs": [
    {
     "name": "stdout",
     "output_type": "stream",
     "text": [
      "Maze: small_maze.txt\n",
      "Path cost: 49\n",
      "Explored squares: 56\n"
     ]
    },
    {
     "data": {
      "image/png": "[encoded data removed]",
      "text/plain": [
       "<Figure size 432x288 with 1 Axes>"
      ]
     },
     "metadata": {
      "needs_background": "light"
     },
     "output_type": "display_data"
    },
    {
     "name": "stdout",
     "output_type": "stream",
     "text": [
      "Maze: medium_maze.txt\n",
      "Path cost: 74\n",
      "Explored squares: 82\n"
     ]
    },
    {
     "data": {
      "image/png": "[encoded data removed]",
      "text/plain": [
       "<Figure size 432x288 with 1 Axes>"
      ]
     },
     "metadata": {
      "needs_background": "light"
     },
     "output_type": "display_data"
    },
    {
     "name": "stdout",
     "output_type": "stream",
     "text": [
      "Maze: large_maze.txt\n",
      "Path cost: 210\n",
      "Explored squares: 503\n"
     ]
    },
    {
     "data": {
      "image/png": "[encoded data removed]",
      "text/plain": [
       "<Figure size 432x288 with 1 Axes>"
      ]
     },
     "metadata": {
      "needs_background": "light"
     },
     "output_type": "display_data"
    },
    {
     "name": "stdout",
     "output_type": "stream",
     "text": [
      "Maze: empty_maze.txt\n",
      "Path cost: 20\n",
      "Explored squares: 43\n"
     ]
    },
    {
     "data": {
      "image/png": "[encoded data removed]",
      "text/plain": [
       "<Figure size 432x288 with 1 Axes>"
      ]
     },
     "metadata": {
      "needs_background": "light"
     },
     "output_type": "display_data"
    },
    {
     "name": "stdout",
     "output_type": "stream",
     "text": [
      "Maze: wall_maze.txt\n",
      "Path cost: 20\n",
      "Explored squares: 44\n"
     ]
    },
    {
     "data": {
      "image/png": "[encoded data removed]",
      "text/plain": [
       "<Figure size 432x288 with 1 Axes>"
      ]
     },
     "metadata": {
      "needs_background": "light"
     },
     "output_type": "display_data"
    },
    {
     "name": "stdout",
     "output_type": "stream",
     "text": [
      "Maze: open_maze.txt\n",
      "Path cost: 154\n",
      "Explored squares: 376\n"
     ]
    },
    {
     "data": {
      "image/png": "[encoded data removed]",
      "text/plain": [
       "<Figure size 432x288 with 1 Axes>"
      ]
     },
     "metadata": {
      "needs_background": "light"
     },
     "output_type": "display_data"
    },
    {
     "name": "stdout",
     "output_type": "stream",
     "text": [
      "Maze: loops_maze.txt\n",
      "Path cost: 31\n",
      "Explored squares: 71\n"
     ]
    },
    {
     "data": {
      "image/png": "[encoded data removed]",
      "text/plain": [
       "<Figure size 432x288 with 1 Axes>"
      ]
     },
     "metadata": {
      "needs_background": "light"
     },
     "output_type": "display_data"
    }
   ],
   "source": [
    "mazeNum = 0\n",
    "for m in maze:\n",
    "    solution = MazeSolver(m, \"A*\")\n",
    "    \n",
    "    print(\"Maze:\", maze_files[mazeNum])\n",
    "    print(\"Path cost:\", len(solution[\"path\"])-1)\n",
    "    print(\"Explored squares:\", len(solution[\"reached\"]))\n",
    "    \n",
    "    table_content[maze_files[mazeNum]].append([\"A*\", len(solution[\"path\"])-1, len(solution[\"reached\"]), solution[\"max_frontier\"], solution[\"max_depth\"]])\n",
    "    mazeNum = mazeNum+1\n",
    "    \n",
    "    show_path(m, solution[\"path\"], solution[\"reached\"])"
   ]
  },
  {
   "cell_type": "markdown",
   "metadata": {},
   "source": [
    "Is this implementation complete and optimal? What is the time and space complexity?"
   ]
  },
  {
   "cell_type": "markdown",
   "metadata": {},
   "source": [
    "## Answer\n",
    "* Complete: YES. \n",
    "* Optimal: YES. If provided with a correct and consistent heuristic.\n",
    "* Time: Exponential\n",
    "* Space: Exponential"
   ]
  },
  {
   "cell_type": "markdown",
   "metadata": {},
   "source": [
    "Don't forget to add a table that compares the following for the algorithms on the different mazes:\n",
    "\n",
    "* The solution and its path cost\n",
    "* Number of nodes expanded\n",
    "* Maximum tree depth searched\n",
    "* Maximum size of the frontier."
   ]
  },
  {
   "cell_type": "markdown",
   "metadata": {},
   "source": [
    "# Tables:"
   ]
  },
  {
   "cell_type": "code",
   "execution_count": 17,
   "metadata": {},
   "outputs": [
    {
     "name": "stdout",
     "output_type": "stream",
     "text": [
      "Maze: small_maze.txt\n",
      "Solution      Path Cost    Nodes Expanded    Max Frontier size    Max node depth\n",
      "----------  -----------  ----------------  -------------------  ----------------\n",
      "BFS                  19                93                    8                18\n",
      "DFS                  29                48                    5                28\n",
      "IDS                  19                73                    6                20\n",
      "GBFS                 37                57                    7                36\n",
      "A*                   49                56                    7                48\n",
      "\n",
      "Maze: medium_maze.txt\n",
      "Solution      Path Cost    Nodes Expanded    Max Frontier size    Max node depth\n",
      "----------  -----------  ----------------  -------------------  ----------------\n",
      "BFS                  68               271                    8                67\n",
      "DFS                  74                82                    5                73\n",
      "IDS                  68               135                    9                69\n",
      "GBFS                130               261                    9               182\n",
      "A*                   74                82                    7                73\n",
      "\n",
      "Maze: large_maze.txt\n",
      "Solution      Path Cost    Nodes Expanded    Max Frontier size    Max node depth\n",
      "----------  -----------  ----------------  -------------------  ----------------\n",
      "BFS                 210               624                    9               210\n",
      "DFS                 210               515                   40               222\n",
      "IDS                 210               539                   32               209\n",
      "GBFS                210               410                   33               209\n",
      "A*                  210               503                   35               222\n",
      "\n",
      "Maze: empty_maze.txt\n",
      "Solution      Path Cost    Nodes Expanded    Max Frontier size    Max node depth\n",
      "----------  -----------  ----------------  -------------------  ----------------\n",
      "BFS                  14                98                   12                14\n",
      "DFS                  16               100                   33                34\n",
      "IDS                  14                61                   23                14\n",
      "GBFS                 42                92                   40                49\n",
      "A*                   20                43                   23                19\n",
      "\n",
      "Maze: wall_maze.txt\n",
      "Solution      Path Cost    Nodes Expanded    Max Frontier size    Max node depth\n",
      "----------  -----------  ----------------  -------------------  ----------------\n",
      "BFS                  14                91                   10                14\n",
      "DFS                  22                46                   24                21\n",
      "IDS                  18                63                   19                17\n",
      "GBFS                 26                49                   23                25\n",
      "A*                   20                44                   24                19\n",
      "\n",
      "Maze: open_maze.txt\n",
      "Solution      Path Cost    Nodes Expanded    Max Frontier size    Max node depth\n",
      "----------  -----------  ----------------  -------------------  ----------------\n",
      "BFS                  54               684                   25                54\n",
      "DFS                 114               390                  139               132\n",
      "IDS                  68               291                   84                67\n",
      "GBFS                108               451                  119               116\n",
      "A*                  154               376                  158               160\n",
      "\n",
      "Maze: loops_maze.txt\n",
      "Solution      Path Cost    Nodes Expanded    Max Frontier size    Max node depth\n",
      "----------  -----------  ----------------  -------------------  ----------------\n",
      "BFS                  23                72                    8                22\n",
      "DFS                  25                62                   10                25\n",
      "IDS                  25                72                   10                27\n",
      "GBFS                 29                67                   10                30\n",
      "A*                   31                71                    9                30\n",
      "\n"
     ]
    }
   ],
   "source": [
    "headers = [\"Solution\",\"Path Cost\",\"Nodes Expanded\", \"Max Frontier size\", \"Max node depth\"]\n",
    "\n",
    "for maze in maze_files:\n",
    "    print(\"Maze:\", maze)\n",
    "    print(tabulate(table_content[maze], headers = headers) + \"\\n\")\n",
    "    \n",
    "#print(pd.DataFrame(table_content[\"small_maze.txt\"]))"
   ]
  },
  {
   "cell_type": "markdown",
   "metadata": {},
   "source": [
    "## Bonus Tasks [+1 point]\n",
    "\n",
    "Instead of defining each square as a state (which you probably did), use only intersections as states. Now the storage requirement is reduced, but the path length between two intersections can be different. If we use total path length in number of squares as path cost, how can we make sure that BFS and iterative deepening search is optimal? Change the code to do so."
   ]
  },
  {
   "cell_type": "code",
   "execution_count": 18,
   "metadata": {},
   "outputs": [],
   "source": [
    "# Your code/answer goes here"
   ]
  },
  {
   "cell_type": "markdown",
   "metadata": {},
   "source": [
    "Modify your A* search to add weights (see text book) and explore how different weights influence the result."
   ]
  },
  {
   "cell_type": "code",
   "execution_count": 19,
   "metadata": {},
   "outputs": [],
   "source": [
    "# Your code/answer goes here"
   ]
  },
  {
   "cell_type": "markdown",
   "metadata": {},
   "source": [
    "What happens if the agent does not know the layout of the maze in advance (i.e., faces an unkown, only partially observable environment)? How does the environment look then (PEAS description)? How would you implement a rational agent to solve the maze? What if the agent still has a GPS device to tell the distance to the goal?"
   ]
  },
  {
   "cell_type": "code",
   "execution_count": 20,
   "metadata": {},
   "outputs": [],
   "source": [
    "# Your code/answer goes here"
   ]
  }
 ],
 "metadata": {
  "kernelspec": {
   "display_name": "Python 3",
   "language": "python",
   "name": "python3"
  },
  "language_info": {
   "codemirror_mode": {
    "name": "ipython",
    "version": 3
   },
   "file_extension": ".py",
   "mimetype": "text/x-python",
   "name": "python",
   "nbconvert_exporter": "python",
   "pygments_lexer": "ipython3",
   "version": "3.8.5"
  }
 },
 "nbformat": 4,
 "nbformat_minor": 4
}
